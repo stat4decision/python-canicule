{
 "cells": [
  {
   "cell_type": "markdown",
   "metadata": {
    "slideshow": {
     "slide_type": "slide"
    }
   },
   "source": [
    "# Les bases du langage Python\n",
    "\n",
    "\n",
    "- Langage de haut niveau\n",
    "- Langage interprété\n",
    "- Langage orienté objet\n",
    "- Langage le plus proche possible du langage naturel\n",
    "\n",
    "Python\n",
    "\n",
    "*Attention Python est sensible à la casse*"
   ]
  },
  {
   "cell_type": "markdown",
   "metadata": {
    "slideshow": {
     "slide_type": "slide"
    }
   },
   "source": [
    "# Quelques rappels en Python\n",
    "\n",
    "- Tout est objet même les \"variables\"\n",
    "- Un objet possède toujours des propriétés et des méthodes\n",
    "\n",
    "Avec iPython, on utilise pour connaître les méthodes et les propriétés :\n",
    "```\n",
    "mon_objet.[tabulation]\n",
    "```"
   ]
  },
  {
   "cell_type": "code",
   "execution_count": 1,
   "metadata": {},
   "outputs": [
    {
     "name": "stdout",
     "output_type": "stream",
     "text": [
      "Python--|--DEPP--|--R\n"
     ]
    }
   ],
   "source": [
    "print(\"Python\", \"DEPP\", \"R\", sep = '--|--')"
   ]
  },
  {
   "cell_type": "markdown",
   "metadata": {
    "slideshow": {
     "slide_type": "slide"
    }
   },
   "source": [
    "# Les types en Python\n",
    "\n",
    "Les types de base :\n",
    "- int\n",
    "- float\n",
    "- boolean\n",
    "- string\n",
    "\n",
    "En Python pas besoin de déclarer le type de données, le langage s’en charge tout seul\n",
    "\n",
    "Python est basé sur un typage fort - une fois un objet d'un type donné, Python ne l'adapte pas\n",
    "\n",
    "Pour connaître le type d’une variable, on utilise : type(nom_de_variable)\n"
   ]
  },
  {
   "cell_type": "code",
   "execution_count": 2,
   "metadata": {
    "slideshow": {
     "slide_type": "fragment"
    }
   },
   "outputs": [
    {
     "name": "stdout",
     "output_type": "stream",
     "text": [
      "<class 'float'>\n"
     ]
    }
   ],
   "source": [
    "nom_de_variable=44.8\n",
    "print(type(nom_de_variable))"
   ]
  },
  {
   "cell_type": "markdown",
   "metadata": {
    "slideshow": {
     "slide_type": "subslide"
    }
   },
   "source": [
    "**Exercice**\n",
    "\n",
    "Définir quatre variables distinctes, un entier, un float, un booléen et une chaîne de caractère et affichez-les dans la console.\n"
   ]
  },
  {
   "cell_type": "code",
   "execution_count": 3,
   "metadata": {},
   "outputs": [
    {
     "name": "stdout",
     "output_type": "stream",
     "text": [
      "22 22.3 True Python\n"
     ]
    }
   ],
   "source": [
    "entier1 = 22\n",
    "float1 = 22.3\n",
    "bool1 = True\n",
    "chaine1 = \"Python\"\n",
    "print(entier1,float1,bool1,chaine1)"
   ]
  },
  {
   "cell_type": "markdown",
   "metadata": {
    "slideshow": {
     "slide_type": "slide"
    }
   },
   "source": [
    "# Les opérations arithmétiques\n",
    "\n",
    "- +\n",
    "- -\n",
    "- *\n",
    "- /\n",
    "- ** (puissance)\n",
    "- % (modulo)"
   ]
  },
  {
   "cell_type": "markdown",
   "metadata": {
    "slideshow": {
     "slide_type": "slide"
    }
   },
   "source": [
    "# Les chaînes de caractères\n",
    "\n",
    "### 3 codages équivalents :"
   ]
  },
  {
   "cell_type": "code",
   "execution_count": 4,
   "metadata": {
    "slideshow": {
     "slide_type": "fragment"
    }
   },
   "outputs": [
    {
     "name": "stdout",
     "output_type": "stream",
     "text": [
      "Python Python Python\n"
     ]
    }
   ],
   "source": [
    "print(\"Python\",'Python',\"\"\"Python\"\"\")"
   ]
  },
  {
   "cell_type": "markdown",
   "metadata": {
    "slideshow": {
     "slide_type": "fragment"
    }
   },
   "source": [
    "De nombreuses opérations sur les chaînes : "
   ]
  },
  {
   "cell_type": "code",
   "execution_count": 5,
   "metadata": {
    "slideshow": {
     "slide_type": "fragment"
    }
   },
   "outputs": [
    {
     "name": "stdout",
     "output_type": "stream",
     "text": [
      "6 python PYTHON Python\n"
     ]
    }
   ],
   "source": [
    "chaine1=\"Python\"\n",
    "print(len(chaine1), chaine1.lower(), chaine1.upper(), str(chaine1))"
   ]
  },
  {
   "cell_type": "code",
   "execution_count": 6,
   "metadata": {},
   "outputs": [
    {
     "data": {
      "text/plain": [
       "0"
      ]
     },
     "execution_count": 6,
     "metadata": {},
     "output_type": "execute_result"
    }
   ],
   "source": [
    "# on peut chainer les traitements\n",
    "chaine1.lower().find(\"p\")\n",
    "#entier1.conjugate()"
   ]
  },
  {
   "cell_type": "markdown",
   "metadata": {
    "slideshow": {
     "slide_type": "subslide"
    }
   },
   "source": [
    "**Exercice**\n",
    "\n",
    "Définir une variable comprenant la chaîne 'Python pour la Science', utilisez des opérations sur les chaînes pour afficher 'PYTHON POUR LA DATA SCIENCE'\n"
   ]
  },
  {
   "cell_type": "code",
   "execution_count": 7,
   "metadata": {},
   "outputs": [],
   "source": [
    "chaine_python = \"Python pour la Science\""
   ]
  },
  {
   "cell_type": "code",
   "execution_count": 8,
   "metadata": {},
   "outputs": [
    {
     "name": "stdout",
     "output_type": "stream",
     "text": [
      "PYTHON POUR LA DATA SCIENCE\n"
     ]
    }
   ],
   "source": [
    "print(chaine_python.replace(\"la\",\"la data\").upper())"
   ]
  },
  {
   "cell_type": "code",
   "execution_count": 9,
   "metadata": {},
   "outputs": [],
   "source": [
    "chaine_python = chaine_python.replace(\"la\",\"la data\").upper()"
   ]
  },
  {
   "cell_type": "code",
   "execution_count": 10,
   "metadata": {},
   "outputs": [
    {
     "name": "stdout",
     "output_type": "stream",
     "text": [
      "PYTHON POUR LA DATA DATA SCIENCE\n"
     ]
    }
   ],
   "source": [
    "print((chaine_python[0:15] + \"data\" + chaine_python[14:]).upper())"
   ]
  },
  {
   "cell_type": "markdown",
   "metadata": {
    "slideshow": {
     "slide_type": "slide"
    }
   },
   "source": [
    "# Les opérateurs booléens\n",
    "\n",
    "- `not`, `and` et `or`\n",
    "- Ordres de priorité\n",
    "    - `not`\n",
    "    - `and`\n",
    "    - `or`"
   ]
  },
  {
   "cell_type": "code",
   "execution_count": 11,
   "metadata": {
    "slideshow": {
     "slide_type": "fragment"
    }
   },
   "outputs": [
    {
     "name": "stdout",
     "output_type": "stream",
     "text": [
      "False\n",
      "True\n",
      "False\n",
      "False\n",
      "False\n"
     ]
    }
   ],
   "source": [
    "print(not True)\n",
    "print(True or False)\n",
    "print(True and False)\n",
    "print(not True and False)\n",
    "print(not True or False)"
   ]
  },
  {
   "cell_type": "markdown",
   "metadata": {
    "slideshow": {
     "slide_type": "slide"
    }
   },
   "source": [
    "# Les convertisseurs de type\n",
    "\n",
    "On peut convertir des types en utilisant :"
   ]
  },
  {
   "cell_type": "code",
   "execution_count": 12,
   "metadata": {
    "slideshow": {
     "slide_type": "fragment"
    }
   },
   "outputs": [
    {
     "name": "stdout",
     "output_type": "stream",
     "text": [
      "<class 'float'>\n"
     ]
    }
   ],
   "source": [
    "print(type(float(entier1)))"
   ]
  },
  {
   "cell_type": "code",
   "execution_count": 13,
   "metadata": {
    "slideshow": {
     "slide_type": "fragment"
    }
   },
   "outputs": [
    {
     "name": "stdout",
     "output_type": "stream",
     "text": [
      "<class 'bool'>\n",
      "<class 'bool'>\n"
     ]
    }
   ],
   "source": [
    "print(type(bool('True')))\n",
    "print(type(bool(0)))"
   ]
  },
  {
   "cell_type": "markdown",
   "metadata": {
    "slideshow": {
     "slide_type": "slide"
    }
   },
   "source": [
    "# Les opérateurs pour les conditions\n",
    "\n",
    "Permet de mettre en place des conditions"
   ]
  },
  {
   "cell_type": "code",
   "execution_count": 14,
   "metadata": {
    "slideshow": {
     "slide_type": "fragment"
    }
   },
   "outputs": [
    {
     "name": "stdout",
     "output_type": "stream",
     "text": [
      "bool1 n'est pas un booléen\n"
     ]
    }
   ],
   "source": [
    "bool1=10.0\n",
    "if bool1 is 10:\n",
    "    print(\"C'est vrai\")\n",
    "elif bool1 is False:\n",
    "    print(\"C'est faux\")\n",
    "else:\n",
    "    print(\"bool1 n'est pas un booléen\")\n"
   ]
  },
  {
   "cell_type": "code",
   "execution_count": 15,
   "metadata": {},
   "outputs": [
    {
     "name": "stdout",
     "output_type": "stream",
     "text": [
      "C'est vrai\n"
     ]
    }
   ],
   "source": [
    "if bool1 == 10:\n",
    "    print(\"C'est vrai\")\n",
    "elif bool1 == False:\n",
    "    print(\"C'est faux\")\n",
    "else:\n",
    "    print(\"bool1 n'est pas un booléen\")\n"
   ]
  },
  {
   "cell_type": "markdown",
   "metadata": {
    "slideshow": {
     "slide_type": "fragment"
    }
   },
   "source": [
    "- Attention dans une condition, si on teste l'égalité des valeurs, il faut utiliser == (les autres opérateurs sont <, <=, >, >=, !=)\n",
    "- Il existe aussi l'opérateur is qui est très important en Python (lisibilité)\n",
    "    - Il permet de tester non pas uniquement les valeurs mais les objets similaires ( True == 1 est vrai mais True is 1 est faux) \n",
    "- Veillez à bien respecter l’indentation\n"
   ]
  },
  {
   "cell_type": "markdown",
   "metadata": {
    "slideshow": {
     "slide_type": "slide"
    }
   },
   "source": [
    "# La boucle for\n",
    "\n",
    "- Les boucles for de Python ont une structure spécifique\n",
    "- L'itérateur prend comme valeur les éléments d'une liste\n",
    "- Structure :\n",
    "```\n",
    "for indice in sequence:\n",
    "    instructions\n",
    "```\n",
    "- On peut utiliser `break` pour casser une boucle \n",
    "\n",
    "- `while` peut aussi être utilisé\n"
   ]
  },
  {
   "cell_type": "code",
   "execution_count": 16,
   "metadata": {},
   "outputs": [
    {
     "name": "stdout",
     "output_type": "stream",
     "text": [
      "a\n",
      "b\n",
      "c\n"
     ]
    }
   ],
   "source": [
    "for col in [\"a\",\"b\",\"c\"]:\n",
    "    print(col)"
   ]
  },
  {
   "cell_type": "markdown",
   "metadata": {
    "slideshow": {
     "slide_type": "fragment"
    }
   },
   "source": [
    "**La boucle de Python est un outil à manier avec parcimonie (elle est très lente)**"
   ]
  },
  {
   "cell_type": "markdown",
   "metadata": {
    "slideshow": {
     "slide_type": "subslide"
    }
   },
   "source": [
    "L'utilisation de `range(n)` permet de créer une liste de valeur de 0 à n-1 :"
   ]
  },
  {
   "cell_type": "code",
   "execution_count": 17,
   "metadata": {
    "slideshow": {
     "slide_type": "fragment"
    }
   },
   "outputs": [
    {
     "name": "stdout",
     "output_type": "stream",
     "text": [
      "[2, 4, 6, 8]\n"
     ]
    }
   ],
   "source": [
    "print(list(range(2,10,2)))"
   ]
  },
  {
   "cell_type": "markdown",
   "metadata": {
    "slideshow": {
     "slide_type": "subslide"
    }
   },
   "source": [
    "**Exercice :**\n",
    "    \n",
    "Créez une boucle for qui parcourt un range de 0 à 5 et qui ajoute 1 à une variable à chaque boucle"
   ]
  },
  {
   "cell_type": "code",
   "execution_count": 18,
   "metadata": {},
   "outputs": [
    {
     "name": "stdout",
     "output_type": "stream",
     "text": [
      "6\n"
     ]
    }
   ],
   "source": [
    "var = 0\n",
    "for i in range(6):\n",
    "    var += 1\n",
    "    #  var = var +1\n",
    "print(var)"
   ]
  },
  {
   "cell_type": "markdown",
   "metadata": {
    "slideshow": {
     "slide_type": "fragment"
    }
   },
   "source": [
    "**Exercice :**\n",
    "    \n",
    "    \n",
    "Créer une boucle permettant d’afficher des phrases avec une valeur différente à chaque boucle \"Nous sommes ...\""
   ]
  },
  {
   "cell_type": "code",
   "execution_count": 19,
   "metadata": {},
   "outputs": [],
   "source": [
    "liste_jours = [\"mercredi\",\"jeudi\", \"vendredi\"]"
   ]
  },
  {
   "cell_type": "code",
   "execution_count": 20,
   "metadata": {},
   "outputs": [
    {
     "name": "stdout",
     "output_type": "stream",
     "text": [
      "nous sommes mercredi\n",
      "nous sommes jeudi\n",
      "nous sommes vendredi\n"
     ]
    }
   ],
   "source": [
    "for jour in liste_jours:\n",
    "    print(\"nous sommes\", jour)"
   ]
  },
  {
   "cell_type": "code",
   "execution_count": 21,
   "metadata": {},
   "outputs": [
    {
     "name": "stdout",
     "output_type": "stream",
     "text": [
      "nous sommes mercredi\n",
      "nous sommes jeudi\n",
      "nous sommes vendredi\n"
     ]
    }
   ],
   "source": [
    "for jour in liste_jours:\n",
    "    print(\"nous sommes {}\".format(jour))"
   ]
  },
  {
   "cell_type": "code",
   "execution_count": 22,
   "metadata": {},
   "outputs": [
    {
     "name": "stdout",
     "output_type": "stream",
     "text": [
      "nous sommes mercredi\n",
      "nous sommes jeudi\n",
      "nous sommes vendredi\n"
     ]
    }
   ],
   "source": [
    "for jour in liste_jours:\n",
    "    print(\"nous sommes %s\" %(jour))"
   ]
  },
  {
   "cell_type": "markdown",
   "metadata": {},
   "source": [
    "Faire une boucle pour afficher :\n",
    "\n",
    "Nous sommes ... et il fait .. degrés"
   ]
  },
  {
   "cell_type": "code",
   "execution_count": 23,
   "metadata": {},
   "outputs": [],
   "source": [
    "liste_temperatures = [35,34,36]"
   ]
  },
  {
   "cell_type": "code",
   "execution_count": 24,
   "metadata": {},
   "outputs": [
    {
     "name": "stdout",
     "output_type": "stream",
     "text": [
      "nous sommes mercredi et il fait 35 degrés\n",
      "nous sommes jeudi et il fait 34 degrés\n",
      "nous sommes vendredi et il fait 36 degrés\n"
     ]
    }
   ],
   "source": [
    "for jour, temp in zip(liste_jours,liste_temperatures):\n",
    "    print(\"nous sommes {} et il fait {} degrés\".format(jour,temp))"
   ]
  },
  {
   "cell_type": "code",
   "execution_count": 25,
   "metadata": {},
   "outputs": [
    {
     "name": "stdout",
     "output_type": "stream",
     "text": [
      "nous sommes mercredi et il fait 35 degrés\n",
      "nous sommes jeudi et il fait 34 degrés\n",
      "nous sommes vendredi et il fait 36 degrés\n"
     ]
    }
   ],
   "source": [
    "for i in range(len(liste_jours)):\n",
    "    print(\"nous sommes {} et il fait {} degrés\".format(liste_jours[i],\n",
    "                                                       liste_temperatures[i]))"
   ]
  },
  {
   "cell_type": "markdown",
   "metadata": {
    "slideshow": {
     "slide_type": "slide"
    }
   },
   "source": [
    "# Les collections d’objet sous Python\n",
    "\n",
    "Il existe 3 structures principales de données sous Python :\n",
    "- Les tuples : suite de valeurs immuable définie par `( )`\n",
    "- Les listes : suite de valeurs modulable définie par `[ ]`\n",
    "- Les dictionnaires : valeurs indexées clé – valeur défini par `{ }` \n",
    "\n",
    "    \n",
    "En Python, quelle que soit la structure, on utilise `[ ]` pour accéder à un élément d’une structure\n",
    "\n",
    "\n",
    "- Dans un tuple : `tup1[0]` permet d’accéder au premier élément\n"
   ]
  },
  {
   "cell_type": "markdown",
   "metadata": {
    "slideshow": {
     "slide_type": "slide"
    }
   },
   "source": [
    "# Les tuples\n",
    "\n",
    "- On ne peut pas modifier un tuple une fois créé\n",
    "\n",
    "**Attention sous Python, le premier indice est toujours le 0**"
   ]
  },
  {
   "cell_type": "code",
   "execution_count": 26,
   "metadata": {
    "slideshow": {
     "slide_type": "fragment"
    }
   },
   "outputs": [
    {
     "name": "stdout",
     "output_type": "stream",
     "text": [
      "4\n",
      "(3, 5)\n"
     ]
    }
   ],
   "source": [
    "#on définit un tuple\n",
    "tu = (1,3,5,7)\n",
    "#on peut rechercher sa taille\n",
    "print(len(tu))\n",
    "#on accès aux indices en utilisant []\n",
    "tu2=tu[1:3]\n",
    "print(tu2)"
   ]
  },
  {
   "cell_type": "code",
   "execution_count": 27,
   "metadata": {},
   "outputs": [],
   "source": [
    "tu3 = (1, True, 2.5, \"Python\")"
   ]
  },
  {
   "cell_type": "code",
   "execution_count": 28,
   "metadata": {},
   "outputs": [
    {
     "data": {
      "text/plain": [
       "'PYTHON'"
      ]
     },
     "execution_count": 28,
     "metadata": {},
     "output_type": "execute_result"
    }
   ],
   "source": [
    "# on extrait l'élément en 4ème position et on le met en majuscule\n",
    "tu3[3].upper()"
   ]
  },
  {
   "cell_type": "markdown",
   "metadata": {
    "slideshow": {
     "slide_type": "slide"
    }
   },
   "source": [
    "# Les listes\n",
    "\n",
    "Une liste est un tuple de taille dynamique et modifiable\n",
    "\n",
    "Les listes sont définies avec des `[ ]`\n",
    "\n",
    "Les méthodes sur les listes comprennent :\n",
    "- `.append()`\t\t\tajoute une valeur en fin de liste\n",
    "- `.insert(i,val)`\t\tinsert une valeur à l’indice i\n",
    "- `.pop(i)`\t\t\textrait la valeur de l’indice i\n",
    "- `.reverse()`\t\t\tinverse la liste\n",
    "- `.extend()` \t\t\tétend la liste\n",
    "\n",
    "**Attention la plupart des méthodes des listes modifient la liste.**"
   ]
  },
  {
   "cell_type": "markdown",
   "metadata": {
    "slideshow": {
     "slide_type": "subslide"
    }
   },
   "source": [
    "**Exercice:**\n",
    "    \n",
    "Créez une liste composée de 5 éléments, affichez la longueur de la liste."
   ]
  },
  {
   "cell_type": "code",
   "execution_count": 29,
   "metadata": {},
   "outputs": [],
   "source": [
    "liste1 = [\"Python\",5,4.4,True]"
   ]
  },
  {
   "cell_type": "code",
   "execution_count": 30,
   "metadata": {},
   "outputs": [
    {
     "data": {
      "text/plain": [
       "4"
      ]
     },
     "execution_count": 30,
     "metadata": {},
     "output_type": "execute_result"
    }
   ],
   "source": [
    "len(liste1)"
   ]
  },
  {
   "cell_type": "markdown",
   "metadata": {
    "slideshow": {
     "slide_type": "fragment"
    }
   },
   "source": [
    "Modifiez la dernière valeur de la liste et construisez une seconde liste à partir des 3 dernières valeurs de la liste initiale."
   ]
  },
  {
   "cell_type": "code",
   "execution_count": 31,
   "metadata": {},
   "outputs": [],
   "source": [
    "liste1[-1]=22"
   ]
  },
  {
   "cell_type": "code",
   "execution_count": 32,
   "metadata": {},
   "outputs": [],
   "source": [
    "liste2=liste1[-3:]"
   ]
  },
  {
   "cell_type": "code",
   "execution_count": 33,
   "metadata": {},
   "outputs": [
    {
     "name": "stdout",
     "output_type": "stream",
     "text": [
      "[5, 4.4, 22]\n"
     ]
    }
   ],
   "source": [
    "print(liste2)"
   ]
  },
  {
   "cell_type": "code",
   "execution_count": 34,
   "metadata": {},
   "outputs": [
    {
     "name": "stdout",
     "output_type": "stream",
     "text": [
      "Variable             Type     Data/Info\n",
      "---------------------------------------\n",
      "bool1                float    10.0\n",
      "chaine1              str      Python\n",
      "chaine_python        str      PYTHON POUR LA DATA SCIENCE\n",
      "col                  str      c\n",
      "entier1              int      22\n",
      "float1               float    22.3\n",
      "i                    int      2\n",
      "jour                 str      vendredi\n",
      "liste1               list     n=4\n",
      "liste2               list     n=3\n",
      "liste_jours          list     n=3\n",
      "liste_temperatures   list     n=3\n",
      "nom_de_variable      float    44.8\n",
      "temp                 int      36\n",
      "tu                   tuple    n=4\n",
      "tu2                  tuple    n=2\n",
      "tu3                  tuple    n=4\n",
      "var                  int      6\n"
     ]
    }
   ],
   "source": [
    "# si on veut afficher tous les éléments chargés en mémoire on utilse :\n",
    "%whos"
   ]
  },
  {
   "cell_type": "markdown",
   "metadata": {
    "slideshow": {
     "slide_type": "slide"
    }
   },
   "source": [
    "# Les listes (suite)\n",
    "\n",
    "On peut faire des recherché plus avancées dans les listes :\n",
    "- `val in list` renvoie `True` si la valeur `val` est dans la liste `list`\n",
    "- `.index(val)` renvoie l'indice de la valeur `val`\n",
    "- `.count(val)` renvoie le nombre d'occurrence de `val`\n",
    "- `.remove(val)` retire la valeur `val` de la liste (que la 1ère)\n",
    "\n",
    "Pour supprimer une liste ou un élément d’une liste, on utilise la commande `del`\n"
   ]
  },
  {
   "cell_type": "markdown",
   "metadata": {
    "slideshow": {
     "slide_type": "subslide"
    }
   },
   "source": [
    "# Un générateur de liste : la List Comprehension\n",
    "\n",
    "On peut définir des listes de manière plus complexe :"
   ]
  },
  {
   "cell_type": "code",
   "execution_count": 35,
   "metadata": {
    "slideshow": {
     "slide_type": "fragment"
    }
   },
   "outputs": [],
   "source": [
    "listinit=list(range(0,100000,2))"
   ]
  },
  {
   "cell_type": "code",
   "execution_count": 36,
   "metadata": {},
   "outputs": [],
   "source": [
    "listinit=[2,6,7,11,4]"
   ]
  },
  {
   "cell_type": "code",
   "execution_count": 37,
   "metadata": {},
   "outputs": [
    {
     "name": "stdout",
     "output_type": "stream",
     "text": [
      "2.45 µs ± 106 ns per loop (mean ± std. dev. of 7 runs, 100000 loops each)\n"
     ]
    }
   ],
   "source": [
    "%%timeit\n",
    "res = [x**2 for x in listinit if (x % 2 == 0)] "
   ]
  },
  {
   "cell_type": "code",
   "execution_count": 39,
   "metadata": {},
   "outputs": [
    {
     "name": "stdout",
     "output_type": "stream",
     "text": [
      "2.39 µs ± 9.6 ns per loop (mean ± std. dev. of 7 runs, 100000 loops each)\n"
     ]
    }
   ],
   "source": [
    "%%timeit\n",
    "res = []\n",
    "for x in listinit:\n",
    "    if x % 2 == 0:\n",
    "        res.append(x**2)"
   ]
  },
  {
   "cell_type": "markdown",
   "metadata": {
    "slideshow": {
     "slide_type": "subslide"
    }
   },
   "source": [
    "**Exercice :**\n",
    "    \n",
    "A partir d’une liste de valeurs en degrés celsius `[0, 10, 20, 35]`, créez une liste en degrés fahrenheits sachant que la formule de transfert est `(9/5*temp+32)`"
   ]
  },
  {
   "cell_type": "code",
   "execution_count": 40,
   "metadata": {},
   "outputs": [],
   "source": [
    "liste_celsius = [0, 10, 20, 35]"
   ]
  },
  {
   "cell_type": "code",
   "execution_count": 41,
   "metadata": {},
   "outputs": [],
   "source": [
    "liste_fahrenheit= [9/5*temp +32 for temp in liste_celsius]"
   ]
  },
  {
   "cell_type": "code",
   "execution_count": 42,
   "metadata": {},
   "outputs": [
    {
     "data": {
      "text/plain": [
       "[32.0, 50.0, 68.0, 95.0]"
      ]
     },
     "execution_count": 42,
     "metadata": {},
     "output_type": "execute_result"
    }
   ],
   "source": [
    "liste_fahrenheit"
   ]
  },
  {
   "cell_type": "markdown",
   "metadata": {
    "slideshow": {
     "slide_type": "slide"
    }
   },
   "source": [
    "# Les chaînes de caractères, des listes spécifiques\n",
    "\n",
    "Une chaîne de caractère est une liste avec des méthodes spécifiques (`.upper()`, `.find()`, `.count()`, `.replace()`...)\n",
    "\n",
    "Pour aller plus loin, on peut transformer une chaîne en liste :\n",
    "- Caractère par caractère : `list(str)`\n",
    "- En fonction de séparateurs : `.split(sep)`\n",
    "- Et effectuer l’opération inverse :\n",
    "```\n",
    "sep.join(list)\n",
    "```"
   ]
  },
  {
   "cell_type": "markdown",
   "metadata": {
    "slideshow": {
     "slide_type": "subslide"
    }
   },
   "source": [
    "**Exercice :**\n",
    "\n",
    "Créez la chaîne 'Vive la data science', transformez-la en une liste de quatre éléments."
   ]
  },
  {
   "cell_type": "code",
   "execution_count": 43,
   "metadata": {},
   "outputs": [],
   "source": [
    "chaine_vive=\"Vive la data science\""
   ]
  },
  {
   "cell_type": "code",
   "execution_count": 44,
   "metadata": {},
   "outputs": [],
   "source": [
    "liste_vive=chaine_vive.split()"
   ]
  },
  {
   "cell_type": "markdown",
   "metadata": {
    "slideshow": {
     "slide_type": "fragment"
    }
   },
   "source": [
    "Ajoutez les valeurs 'Python' et 'et' à cette liste de manière à créer 'Vive Python et la data science'."
   ]
  },
  {
   "cell_type": "code",
   "execution_count": 45,
   "metadata": {},
   "outputs": [],
   "source": [
    "liste_vive.insert(1,\"Python et\")"
   ]
  },
  {
   "cell_type": "markdown",
   "metadata": {
    "slideshow": {
     "slide_type": "fragment"
    }
   },
   "source": [
    "Affichez la chaîne de caractère obtenue."
   ]
  },
  {
   "cell_type": "code",
   "execution_count": 46,
   "metadata": {},
   "outputs": [
    {
     "data": {
      "text/plain": [
       "'Vive Python et la data science'"
      ]
     },
     "execution_count": 46,
     "metadata": {},
     "output_type": "execute_result"
    }
   ],
   "source": [
    "\" \".join(liste_vive)"
   ]
  },
  {
   "cell_type": "markdown",
   "metadata": {
    "slideshow": {
     "slide_type": "subslide"
    }
   },
   "source": [
    "# Chaîne de caractères\n",
    "\n",
    "Pour intégrer des valeurs spécifiques dans une phrase, on utilisera :\n",
    "- `%f`, `%s`, `%i` à l’intérieur de la chaîne (`float`, `str` ou `entier`)\n",
    "- `%( , )` après la chaîne de caractères"
   ]
  },
  {
   "cell_type": "code",
   "execution_count": 47,
   "metadata": {
    "slideshow": {
     "slide_type": "fragment"
    }
   },
   "outputs": [
    {
     "name": "stdout",
     "output_type": "stream",
     "text": [
      "Aujourd'hui nous sommes mercredi\n"
     ]
    }
   ],
   "source": [
    "print(\"Aujourd'hui nous sommes %s\" %(\"mercredi\"))"
   ]
  },
  {
   "cell_type": "markdown",
   "metadata": {
    "slideshow": {
     "slide_type": "fragment"
    }
   },
   "source": [
    "Si on veut intégrer d'autres types, on utilisera la méthode `.format()` et le codage `{}` dans la chaîne"
   ]
  },
  {
   "cell_type": "code",
   "execution_count": 48,
   "metadata": {
    "slideshow": {
     "slide_type": "fragment"
    }
   },
   "outputs": [
    {
     "name": "stdout",
     "output_type": "stream",
     "text": [
      "La liste [4.5, 3.6, 6] est utilisée\n"
     ]
    }
   ],
   "source": [
    "print(\"La liste {} est utilisée\".format([4.5,3.6,6]))"
   ]
  },
  {
   "cell_type": "markdown",
   "metadata": {
    "slideshow": {
     "slide_type": "slide"
    }
   },
   "source": [
    "# Les dictionnaires\n",
    "\n",
    "Il s'agit d’une collection d’objets non ordonnés associant les notions \"clé – valeur\"."
   ]
  },
  {
   "cell_type": "code",
   "execution_count": 49,
   "metadata": {
    "slideshow": {
     "slide_type": "fragment"
    }
   },
   "outputs": [],
   "source": [
    "dico = {'Paris':5, 'Lyon':2, 'Bordeaux':1}"
   ]
  },
  {
   "cell_type": "code",
   "execution_count": 50,
   "metadata": {},
   "outputs": [
    {
     "data": {
      "text/plain": [
       "5"
      ]
     },
     "execution_count": 50,
     "metadata": {},
     "output_type": "execute_result"
    }
   ],
   "source": [
    "dico['Paris']"
   ]
  },
  {
   "cell_type": "code",
   "execution_count": 51,
   "metadata": {
    "slideshow": {
     "slide_type": "fragment"
    }
   },
   "outputs": [
    {
     "name": "stdout",
     "output_type": "stream",
     "text": [
      "dict_keys(['Paris', 'Lyon', 'Bordeaux'])\n",
      "dict_values([5, 2, 1])\n"
     ]
    }
   ],
   "source": [
    "# On utilise pour afficher la liste des clés et des valeurs\n",
    "print(dico.keys())\n",
    "print(dico.values())"
   ]
  },
  {
   "cell_type": "code",
   "execution_count": 52,
   "metadata": {
    "slideshow": {
     "slide_type": "fragment"
    }
   },
   "outputs": [
    {
     "name": "stdout",
     "output_type": "stream",
     "text": [
      "5\n"
     ]
    }
   ],
   "source": [
    "# On accède aux valeurs par clé\n",
    "print(dico[\"Paris\"])"
   ]
  },
  {
   "cell_type": "code",
   "execution_count": 53,
   "metadata": {},
   "outputs": [],
   "source": [
    "dico_donnees = {\"personnel\":[3,6,8],\"élèves\": [4,7,9,1]}"
   ]
  },
  {
   "cell_type": "code",
   "execution_count": 54,
   "metadata": {},
   "outputs": [
    {
     "data": {
      "text/plain": [
       "6"
      ]
     },
     "execution_count": 54,
     "metadata": {},
     "output_type": "execute_result"
    }
   ],
   "source": [
    "dico_donnees[\"personnel\"][1]"
   ]
  },
  {
   "cell_type": "markdown",
   "metadata": {
    "slideshow": {
     "slide_type": "slide"
    }
   },
   "source": [
    "# Les fonctions \n",
    "\n",
    "- Les niveaux d’une fonction dépendent de l’indentation\n",
    "- On définit une fonction avec `def fonction():`\n",
    "- Le contenu de la fonction suit\n",
    "- La valeur que retourne la fonction est définie par `return` \n",
    "- Les commentaires liés à une fonction sont inclus dans un docstring (commentaire utilisant `\"\"\"`) \n"
   ]
  },
  {
   "cell_type": "code",
   "execution_count": 55,
   "metadata": {
    "slideshow": {
     "slide_type": "fragment"
    }
   },
   "outputs": [],
   "source": [
    "def affichage_produit(val1,val2):\n",
    "    \"\"\"Cette fonction calcule le produit de 2 valeurs\n",
    "    \n",
    "    Paramètre :\n",
    "    val1, val2 : valeurs numériques\n",
    "    \n",
    "    Retour : produit numérique de val1 et val2\n",
    "    \"\"\"\n",
    "    return val1*val2"
   ]
  },
  {
   "cell_type": "code",
   "execution_count": 56,
   "metadata": {},
   "outputs": [],
   "source": [
    "produit = affichage_produit(65,77)"
   ]
  },
  {
   "cell_type": "code",
   "execution_count": 57,
   "metadata": {},
   "outputs": [
    {
     "name": "stdout",
     "output_type": "stream",
     "text": [
      "5005\n"
     ]
    }
   ],
   "source": [
    "print(produit)"
   ]
  },
  {
   "cell_type": "markdown",
   "metadata": {
    "slideshow": {
     "slide_type": "subslide"
    }
   },
   "source": [
    "Une fonction peut avoir de multiples arguments dont des argument facultatifs (avec des valeurs par défaut) :"
   ]
  },
  {
   "cell_type": "code",
   "execution_count": 58,
   "metadata": {
    "slideshow": {
     "slide_type": "fragment"
    }
   },
   "outputs": [
    {
     "data": {
      "text/plain": [
       "8"
      ]
     },
     "execution_count": 58,
     "metadata": {},
     "output_type": "execute_result"
    }
   ],
   "source": [
    "def test(a,b,c=3):\n",
    "    return a+b+c\n",
    "# Que renvoie :\n",
    "test(2,3)\n",
    "# test(2,3,4)"
   ]
  },
  {
   "cell_type": "markdown",
   "metadata": {
    "slideshow": {
     "slide_type": "subslide"
    }
   },
   "source": [
    "On peut avoir un nombre indéfini d’arguments en utilisant `*args` (ils sont rassemblés dans un tuple)"
   ]
  },
  {
   "cell_type": "code",
   "execution_count": 61,
   "metadata": {
    "slideshow": {
     "slide_type": "fragment"
    }
   },
   "outputs": [
    {
     "name": "stdout",
     "output_type": "stream",
     "text": [
      "20\n",
      "6\n"
     ]
    }
   ],
   "source": [
    "def test2(a:int,b:float,*args):\n",
    "    val=0\n",
    "    for i in args:\n",
    "        val+=i\n",
    "    return a+b+val\n",
    "# Que renvoie :\n",
    "print(test2(2,4,6,8))\n",
    "print(test2(2,4))"
   ]
  },
  {
   "cell_type": "markdown",
   "metadata": {
    "slideshow": {
     "slide_type": "subslide"
    }
   },
   "source": [
    "On peut aussi stocker les options d'une fonction dans un dictionnaire avec `**kwargs`"
   ]
  },
  {
   "cell_type": "code",
   "execution_count": 62,
   "metadata": {
    "slideshow": {
     "slide_type": "fragment"
    }
   },
   "outputs": [],
   "source": [
    "def test3(a,b,*args,w=1,**kwargs):\n",
    "    x=0\n",
    "    for val in args:\n",
    "        x+=val\n",
    "    x+=a\n",
    "    x-=b\n",
    "    x*=w\n",
    "    option1=kwargs.get('option1',False)\n",
    "    option2=kwargs.get('option2',False)\n",
    "    if option1 is True and option2 is True:\n",
    "        print(\"Tout est vrai\")\n",
    "        return x\n",
    "    else:\n",
    "        return x/2"
   ]
  },
  {
   "cell_type": "code",
   "execution_count": 63,
   "metadata": {
    "slideshow": {
     "slide_type": "fragment"
    }
   },
   "outputs": [
    {
     "name": "stdout",
     "output_type": "stream",
     "text": [
      "-0.5\n",
      "3.0\n",
      "-0.5\n",
      "Tout est vrai\n",
      "-1\n",
      "Tout est vrai\n",
      "12\n"
     ]
    }
   ],
   "source": [
    "# Que renvoie\n",
    "print(test3(1,2))\n",
    "print(test3(1,2,3,4))\n",
    "print(test3(1,2,option1=True))\n",
    "print(test3(1,2,option1=True,option2=True))\n",
    "print(test3(1,2,3,4,w=2,option1=True,option2=True))"
   ]
  },
  {
   "cell_type": "markdown",
   "metadata": {
    "slideshow": {
     "slide_type": "subslide"
    }
   },
   "source": [
    "# Les fonctions lambda\n",
    "\n",
    "- Il s’agit de fonction très courte visant à simplifier votre code\n",
    "- On les trouve souvent dans du code en python\n",
    "- Les fonctions lambda peuvent être assigné a une variable qui devient une fonction ou être traitées toutes seules\n",
    "- On utilise le mot clé lambda\n",
    "- Il y a deux limites aux fonctions lambda :\n",
    "     - Elle ne peut s’écrire que sur une ligne\n",
    "     - Il n’y a qu’une instruction (on peut avoir plusieurs paramètres)\n",
    "\n",
    "- Quand utiliser des fonctions lambda :\n",
    "    - A l’intérieur d’autres fonctions\n",
    "    - Lorsqu’on veut appliquer une transformation sur des données\n"
   ]
  },
  {
   "cell_type": "code",
   "execution_count": 64,
   "metadata": {
    "slideshow": {
     "slide_type": "fragment"
    }
   },
   "outputs": [
    {
     "name": "stdout",
     "output_type": "stream",
     "text": [
      "125\n",
      "125\n"
     ]
    }
   ],
   "source": [
    "f=lambda x:x**3\n",
    "print(f(5))\n",
    "print((lambda x:x**3)(5))"
   ]
  },
  {
   "cell_type": "markdown",
   "metadata": {
    "slideshow": {
     "slide_type": "subslide"
    }
   },
   "source": [
    "### Exemples d'utilisations :"
   ]
  },
  {
   "cell_type": "code",
   "execution_count": 65,
   "metadata": {
    "slideshow": {
     "slide_type": "fragment"
    }
   },
   "outputs": [],
   "source": [
    "# Dans une fonction :\n",
    "def ma_fonction_puissance(x):\n",
    "    return lambda a,b : (a+b)**x"
   ]
  },
  {
   "cell_type": "code",
   "execution_count": 66,
   "metadata": {
    "slideshow": {
     "slide_type": "fragment"
    }
   },
   "outputs": [
    {
     "name": "stdout",
     "output_type": "stream",
     "text": [
      "125\n"
     ]
    }
   ],
   "source": [
    "fonction_cube=ma_fonction_puissance(3)\n",
    "print(fonction_cube(2,3))"
   ]
  },
  {
   "cell_type": "code",
   "execution_count": 67,
   "metadata": {
    "slideshow": {
     "slide_type": "subslide"
    }
   },
   "outputs": [
    {
     "data": {
      "text/plain": [
       "0    2\n",
       "1    5\n",
       "2    7\n",
       "3    9\n",
       "dtype: int64"
      ]
     },
     "execution_count": 67,
     "metadata": {},
     "output_type": "execute_result"
    }
   ],
   "source": [
    "# Pour une transformation\n",
    "from pandas import Series\n",
    "ser1=Series([2,5,7,9])\n",
    "ser1"
   ]
  },
  {
   "cell_type": "code",
   "execution_count": 68,
   "metadata": {
    "slideshow": {
     "slide_type": "fragment"
    }
   },
   "outputs": [
    {
     "data": {
      "text/plain": [
       "0     3\n",
       "1    30\n",
       "2    58\n",
       "3    94\n",
       "dtype: int64"
      ]
     },
     "execution_count": 68,
     "metadata": {},
     "output_type": "execute_result"
    }
   ],
   "source": [
    "ser1.apply(lambda x:x**2+2*x-5)"
   ]
  },
  {
   "cell_type": "markdown",
   "metadata": {
    "slideshow": {
     "slide_type": "subslide"
    }
   },
   "source": [
    "**Exercice :**\n",
    "\n",
    "Construire une fonction prenant en entrée deux listes et qui retourne la moyenne de tous les éléments des deux listes (une seule valeur)\n"
   ]
  },
  {
   "cell_type": "code",
   "execution_count": 69,
   "metadata": {},
   "outputs": [],
   "source": [
    "def moyenne_2listes(liste1,liste2):\n",
    "    try:\n",
    "        somme = 0\n",
    "        for val in liste1+liste2:\n",
    "            somme += val\n",
    "        return somme / len(liste1+liste2)\n",
    "    except TypeError:\n",
    "        print(\"Les listes doivent être composées de nombres\")\n"
   ]
  },
  {
   "cell_type": "code",
   "execution_count": 70,
   "metadata": {},
   "outputs": [],
   "source": [
    "def moyenne_2listes2(liste1,liste2):\n",
    "    return sum(liste1+liste2) / len(liste1+liste2)"
   ]
  },
  {
   "cell_type": "code",
   "execution_count": 71,
   "metadata": {},
   "outputs": [
    {
     "name": "stdout",
     "output_type": "stream",
     "text": [
      "Les listes doivent être composées de nombres\n"
     ]
    }
   ],
   "source": [
    "moyenne = moyenne_2listes([3,\"7\",9],[6,8,0])"
   ]
  },
  {
   "cell_type": "code",
   "execution_count": 72,
   "metadata": {},
   "outputs": [
    {
     "name": "stdout",
     "output_type": "stream",
     "text": [
      "None\n"
     ]
    }
   ],
   "source": [
    "print(moyenne)"
   ]
  },
  {
   "cell_type": "code",
   "execution_count": 73,
   "metadata": {},
   "outputs": [],
   "source": [
    "def moyenne_listes(*listes):\n",
    "    somme = 0\n",
    "    longueur = 0\n",
    "    for liste in listes:\n",
    "        somme += sum(liste)\n",
    "        longueur += len(liste)\n",
    "    return somme / longueur\n",
    "    "
   ]
  },
  {
   "cell_type": "code",
   "execution_count": 74,
   "metadata": {},
   "outputs": [
    {
     "data": {
      "text/plain": [
       "5.285714285714286"
      ]
     },
     "execution_count": 74,
     "metadata": {},
     "output_type": "execute_result"
    }
   ],
   "source": [
    "moyenne_listes([4,7,9],[5,4],[8,0])"
   ]
  },
  {
   "cell_type": "markdown",
   "metadata": {},
   "source": [
    "On peut utiliser un dictionnaire comme dictionnaire de paramètres, on utilisera le code `**`"
   ]
  },
  {
   "cell_type": "code",
   "execution_count": 75,
   "metadata": {},
   "outputs": [],
   "source": [
    "import pandas as pd"
   ]
  },
  {
   "cell_type": "code",
   "execution_count": 76,
   "metadata": {},
   "outputs": [],
   "source": [
    "dico_fichiers_depp = {\"sep\":\";\",\"decimal\" : \",\"}"
   ]
  },
  {
   "cell_type": "code",
   "execution_count": 77,
   "metadata": {},
   "outputs": [
    {
     "name": "stderr",
     "output_type": "stream",
     "text": [
      "C:\\Users\\s4d-asus-14\\Anaconda3\\lib\\site-packages\\IPython\\core\\interactiveshell.py:3049: DtypeWarning: Columns (11) have mixed types. Specify dtype option on import or set low_memory=False.\n",
      "  interactivity=interactivity, compiler=compiler, result=result)\n"
     ]
    }
   ],
   "source": [
    "data = pd.read_csv(\"./data/Agents.csv\",**dico_fichiers_depp)"
   ]
  },
  {
   "cell_type": "markdown",
   "metadata": {
    "slideshow": {
     "slide_type": "slide"
    }
   },
   "source": [
    "# Les packages et les modules en Python\n",
    "\n",
    "- Il s’agit d’un ensemble de fonctions qui pourront être appelées d’un autre programme\n",
    "\n",
    "- On utilise :\n",
    "```\n",
    "import nom_pkg\n",
    "```\n",
    "- Si on utilise `as nm` par exemple, ceci permet de raccourcir l'appel aux fonctions du package\n",
    "- On peut utiliser `from mon_pkg import *`, dans ce cas plus de préfixes mais attention aux conflits\n",
    "- On peut aussi utiliser des fonctions ou des classes spécifiques (plus besoin de préfixe)\n",
    "```\n",
    "from pandas import Series\n",
    "```\n",
    "\n",
    "*Si on cherche des informations sur un module, on peut utiliser `dir()` et `help()`*"
   ]
  },
  {
   "cell_type": "code",
   "execution_count": 78,
   "metadata": {},
   "outputs": [],
   "source": [
    "import numpy"
   ]
  },
  {
   "cell_type": "code",
   "execution_count": 79,
   "metadata": {},
   "outputs": [],
   "source": [
    "import numpy as np"
   ]
  },
  {
   "cell_type": "code",
   "execution_count": 80,
   "metadata": {},
   "outputs": [],
   "source": [
    "from numpy import ones"
   ]
  },
  {
   "cell_type": "markdown",
   "metadata": {
    "slideshow": {
     "slide_type": "subslide"
    }
   },
   "source": [
    "# Créer votre module et votre package\n",
    "\n",
    "- Il est très simple de faire appel à des fonctions ou à des classes depuis un autre fichier\n",
    "- Il suffit de stocker vos classes et fonctions dans un fichier `.py`\n",
    "- Celui-ci pourra être stocké dans un répertoire appartenant aux chemins de Python ou dans votre répertoire de travail\n",
    "- Vous avez alors la possibilité de faire :\n",
    "```\n",
    "import mon_fichier\n",
    "```\n",
    "et d’utiliser les fonctions et classes de ce fichiers\n",
    "\n",
    "- Vous venez de créer un module. \n",
    "- **Attention ceci n’est pas un package !**"
   ]
  },
  {
   "cell_type": "code",
   "execution_count": 81,
   "metadata": {},
   "outputs": [],
   "source": [
    "#import mon_module"
   ]
  },
  {
   "cell_type": "code",
   "execution_count": 82,
   "metadata": {},
   "outputs": [],
   "source": [
    "#on_module.affichage_produit(4,7)"
   ]
  },
  {
   "cell_type": "markdown",
   "metadata": {
    "slideshow": {
     "slide_type": "subslide"
    }
   },
   "source": [
    "# Créer votre module et votre package (suite)\n",
    "\n",
    "\n",
    "- Un package est constitué de plus d’informations qu’un simple fichier `.py`\n",
    "\n",
    "\n",
    "- Voici les étapes pour créer votre premier package :\n",
    "    - Choisissez un nom simple et traduisant bien ce que va faire votre package (si possible un nom qui n’est pas déjà utilisé)\n",
    "    - Créez un répertoire du nom de votre package\n",
    "    - Créez un fichier `__init__.py` dans ce répertoire, ce fichier peut être vide dans un premier temps\n",
    "    - Dans le même répertoire ajoutez des fichiers avec vos fonctions et vos classes\n",
    "\n",
    "Si votre objectif est de publier le package sur PyPi, il faudra ajouter un fichier setup et les dépendances associées\n",
    "\n",
    "Pour importer votre package, il vous suffit de faire:\n",
    "```\n",
    "import nom_dossier.nom_fichier\n",
    "```"
   ]
  },
  {
   "cell_type": "markdown",
   "metadata": {
    "slideshow": {
     "slide_type": "subslide"
    }
   },
   "source": [
    "**Exercice :**\n",
    "\n",
    "Rassemblez deux fonctions dans un fichier .py et créez un package"
   ]
  },
  {
   "cell_type": "code",
   "execution_count": null,
   "metadata": {},
   "outputs": [],
   "source": []
  },
  {
   "cell_type": "markdown",
   "metadata": {
    "slideshow": {
     "slide_type": "subslide"
    }
   },
   "source": [
    "# Quelques détails sur la création de package\n",
    "\n",
    "- Le fichier `__init__.py` peut être vide mais il peut aussi contenir des informations\n",
    "- Ce fichier est lancé à chaque chargement du package, il peut inclure des dépendances, des vérifications de versions, des import vers les fonctions et classes des fichiers de votre package...\n",
    "\n",
    "\n",
    "- Où peut-on mettre nos packages ?\n",
    "    - Par défaut, si le package se trouve dans le même répertoire que le script exécuté, ça fonctionne\n",
    "    - Le package doit se trouver dans un répertoire lié au PythonPath\n",
    "    - Pour rechercher les répertoire, on utilise le module `sys` et la fonction `path`\n",
    "    - Pour créer un répertoire \"temporaire\", on utilise la fonction `path.insert()` du module `sys`"
   ]
  },
  {
   "cell_type": "code",
   "execution_count": null,
   "metadata": {},
   "outputs": [],
   "source": []
  },
  {
   "cell_type": "markdown",
   "metadata": {
    "slideshow": {
     "slide_type": "slide"
    }
   },
   "source": [
    "# Les classes\n",
    "\n",
    "Nous avons manipuler de nombreux objets de classes variées. Si nous voulons aller plus loin, il va falloir manipuler des classes et savoir les créer.\n",
    "\n",
    "Une classe est un type permettant de regrouper dans la même structure :\n",
    "- les informations (champs, propriétés, attributs) relatives à une entité ; \n",
    "- les procédures et fonctions permettant de les manipuler (méthodes)."
   ]
  },
  {
   "cell_type": "markdown",
   "metadata": {
    "slideshow": {
     "slide_type": "subslide"
    }
   },
   "source": [
    "Une classe commence par un constructeur :"
   ]
  },
  {
   "cell_type": "code",
   "execution_count": 83,
   "metadata": {
    "slideshow": {
     "slide_type": "fragment"
    }
   },
   "outputs": [],
   "source": [
    "class MaClasse:\n",
    "    \n",
    "    def __init__(self,nom=\"Emmanuel\",ville=\"Paris\"):\n",
    "        self.nom= nom\n",
    "        self.ville=ville\n",
    "    \n",
    "    def demenagement(self, nouvelle_ville):\n",
    "        self.ville = nouvelle_ville\n",
    "        print(\"Bon déménagement !\")"
   ]
  },
  {
   "cell_type": "code",
   "execution_count": 84,
   "metadata": {},
   "outputs": [],
   "source": [
    "objet_classe=MaClasse(\"Emmanuel\",\"Lyon\")"
   ]
  },
  {
   "cell_type": "code",
   "execution_count": 85,
   "metadata": {},
   "outputs": [
    {
     "name": "stdout",
     "output_type": "stream",
     "text": [
      "Bon déménagement !\n"
     ]
    }
   ],
   "source": [
    "objet_classe.demenagement(\"Toulouse\")"
   ]
  },
  {
   "cell_type": "code",
   "execution_count": 86,
   "metadata": {},
   "outputs": [
    {
     "data": {
      "text/plain": [
       "'Toulouse'"
      ]
     },
     "execution_count": 86,
     "metadata": {},
     "output_type": "execute_result"
    }
   ],
   "source": [
    "objet_classe.ville"
   ]
  },
  {
   "cell_type": "code",
   "execution_count": 87,
   "metadata": {},
   "outputs": [
    {
     "data": {
      "text/plain": [
       "'Emmanuel'"
      ]
     },
     "execution_count": 87,
     "metadata": {},
     "output_type": "execute_result"
    }
   ],
   "source": [
    "objet_classe.nom"
   ]
  },
  {
   "cell_type": "markdown",
   "metadata": {
    "slideshow": {
     "slide_type": "fragment"
    }
   },
   "source": [
    "Ensuite on peut définir d’autres fonctions dans la classe\n",
    "\n",
    "\n",
    "On définit ensuite une nouvelle instance et on peut ainsi remplir le nouvel objet\n"
   ]
  },
  {
   "cell_type": "markdown",
   "metadata": {
    "slideshow": {
     "slide_type": "subslide"
    }
   },
   "source": [
    "# Les classes\n",
    "\n",
    "- La programmation orientée objet, c’est un style de programmation qui permet de regrouper au même endroit le comportement (les fonctions) et les données (les structures) qui sont faites pour aller ensemble\n",
    "- La notion d’objet en Python concerne toutes les structures Python\n",
    "- L’idée est de créer vos propres objets\n",
    "- La création d’un objet se fait en deux étapes :\n",
    "    - Description de l’objet\n",
    "    - Fabrication de l’objet\n",
    "- La notion de classe en python représente la description de l’objet\n",
    "- La deuxième étape se fait uniquement en allouant des informations à l’objet. L’objet obtenu est une instance de la classe\n"
   ]
  },
  {
   "cell_type": "code",
   "execution_count": 88,
   "metadata": {
    "slideshow": {
     "slide_type": "subslide"
    }
   },
   "outputs": [],
   "source": [
    "# Une classe va ressembler à :\n",
    "class MaClasse():\n",
    "    def __init__(self,val1=0,val2=0):\n",
    "        self.val1=val1\n",
    "        self.val2=val2\n",
    "    \n",
    "    def methode1(self,param1):\n",
    "        self.val1+=param1\n",
    "        print(self.val1)"
   ]
  },
  {
   "cell_type": "markdown",
   "metadata": {
    "slideshow": {
     "slide_type": "subslide"
    }
   },
   "source": [
    "**Exercice :**\n",
    "    \n",
    "Définissez une classe `CompteBancaire()`, qui permette d'instancier des objets tels que `compte1`, `compte2`, etc.\n",
    "\n",
    "Le constructeur de cette classe initialisera deux attributs d'instance `nom` et `solde`, avec les valeurs par défaut `'A'` et `0`.\n",
    "\n",
    "Trois autres méthodes sont définies :\n",
    "- `depot(somme)` permettra d'ajouter une certaine somme au solde\n",
    "- `retrait(somme)` permettra de retirer une certaine somme du solde\n",
    "- `affiche()` permettra d'afficher le solde du compte et un message d’alerte en cas de solde négatif. "
   ]
  },
  {
   "cell_type": "code",
   "execution_count": 89,
   "metadata": {},
   "outputs": [],
   "source": [
    "class CompteBancaire:\n",
    "    \"\"\" Classe permettant de créer des objets compte de la classe CompteBancaire\"\"\"\n",
    "    \n",
    "    def __init__(self,nom = \"A\",solde = 0):\n",
    "        self.nom = nom\n",
    "        self.solde = solde\n",
    "    \n",
    "    def depot(self,somme):\n",
    "        \"\"\" Méthode permettant de déposer une somme sur un compte\"\"\"\n",
    "        self.solde += somme\n",
    "        \n",
    "    def retrait(self,somme):\n",
    "        \"\"\" Méthode permettant de retirer une somme d'un compte \"\"\"\n",
    "        self.solde -= somme\n",
    "\n",
    "    def affiche_solde(self):\n",
    "        if self.solde <0:\n",
    "            print(\"Attention solde négatif\")\n",
    "        print(\"Votre solde est de %.2f\" %(self.solde))"
   ]
  },
  {
   "cell_type": "code",
   "execution_count": 90,
   "metadata": {},
   "outputs": [],
   "source": [
    "compte1=CompteBancaire(\"Emmanuel\",1000)"
   ]
  },
  {
   "cell_type": "code",
   "execution_count": 91,
   "metadata": {},
   "outputs": [
    {
     "name": "stdout",
     "output_type": "stream",
     "text": [
      "Votre solde est de 1100.00\n"
     ]
    }
   ],
   "source": [
    "compte1.depot(100)\n",
    "compte1.affiche_solde()"
   ]
  },
  {
   "cell_type": "code",
   "execution_count": 92,
   "metadata": {},
   "outputs": [
    {
     "name": "stdout",
     "output_type": "stream",
     "text": [
      "Attention solde négatif\n",
      "Votre solde est de -900.00\n"
     ]
    }
   ],
   "source": [
    "compte1.retrait(2000)\n",
    "compte1.affiche_solde()"
   ]
  },
  {
   "cell_type": "markdown",
   "metadata": {},
   "source": [
    "On définit une classe associées à une classe scoliare :"
   ]
  },
  {
   "cell_type": "code",
   "execution_count": 93,
   "metadata": {},
   "outputs": [],
   "source": [
    "class ClasseEduc:\n",
    "    \"\"\" Classe associée a une classe de collège\"\"\"\n",
    "    \n",
    "    def __init__(self,niveau = 6, effectif = 30,etablissement = \"X\",\n",
    "                 note_moyenne = 10):\n",
    "        self.niveau = niveau\n",
    "        self.effectif = effectif\n",
    "        self.etablissement= etablissement\n",
    "        self.note_moyenne =note_moyenne\n",
    "    \n",
    "    def changement_niveau(self):\n",
    "        self.niveau -=1\n",
    "        print(\"Cette classe est au niveau {}ème\".format(self.niveau))\n",
    "    \n",
    "    def mise_a_jour_note(self,liste_notes):\n",
    "        self.note_moyenne = sum(liste_notes)/len(liste_notes)\n",
    "        print(\"La nouvelle moyenne est de {}\".format(self.note_moyenne))\n",
    "    "
   ]
  },
  {
   "cell_type": "code",
   "execution_count": 94,
   "metadata": {},
   "outputs": [],
   "source": [
    "classe1_college22 = ClasseEduc(niveau=6,effectif=25,etablissement=\"xx\")"
   ]
  },
  {
   "cell_type": "code",
   "execution_count": 95,
   "metadata": {},
   "outputs": [
    {
     "data": {
      "text/plain": [
       "10"
      ]
     },
     "execution_count": 95,
     "metadata": {},
     "output_type": "execute_result"
    }
   ],
   "source": [
    "classe1_college22.note_moyenne"
   ]
  },
  {
   "cell_type": "code",
   "execution_count": 96,
   "metadata": {},
   "outputs": [
    {
     "data": {
      "text/plain": [
       "6"
      ]
     },
     "execution_count": 96,
     "metadata": {},
     "output_type": "execute_result"
    }
   ],
   "source": [
    "classe1_college22.niveau"
   ]
  },
  {
   "cell_type": "code",
   "execution_count": 97,
   "metadata": {},
   "outputs": [
    {
     "name": "stdout",
     "output_type": "stream",
     "text": [
      "Cette classe est au niveau 5ème\n"
     ]
    }
   ],
   "source": [
    "classe1_college22.changement_niveau()"
   ]
  },
  {
   "cell_type": "code",
   "execution_count": 98,
   "metadata": {},
   "outputs": [
    {
     "name": "stdout",
     "output_type": "stream",
     "text": [
      "La nouvelle moyenne est de 13.666666666666666\n"
     ]
    }
   ],
   "source": [
    "classe1_college22.mise_a_jour_note([15,14,12])"
   ]
  },
  {
   "cell_type": "code",
   "execution_count": 99,
   "metadata": {},
   "outputs": [
    {
     "data": {
      "text/plain": [
       "13.666666666666666"
      ]
     },
     "execution_count": 99,
     "metadata": {},
     "output_type": "execute_result"
    }
   ],
   "source": [
    "classe1_college22.note_moyenne"
   ]
  },
  {
   "cell_type": "markdown",
   "metadata": {
    "slideshow": {
     "slide_type": "slide"
    }
   },
   "source": [
    "# La gestion des exceptions\n",
    "\n",
    "- Python possède un système pour gérer les exceptions\n",
    "- On utilise `try:` et `except:`\n",
    "- On peut intercepter différents types d’erreurs\n",
    "    - `NameError`, `TypeError`, `ZeroDivisionError`\n",
    "- Si on ne veut rien faire dans l’exception on peut utiliser le mot clé `pass`\n",
    "\n"
   ]
  },
  {
   "cell_type": "code",
   "execution_count": 100,
   "metadata": {
    "slideshow": {
     "slide_type": "fragment"
    }
   },
   "outputs": [],
   "source": [
    "def ma_fonction(val):\n",
    "    try:\n",
    "        print(val**2)\n",
    "    except:\n",
    "        print(\"Erreur\")"
   ]
  },
  {
   "cell_type": "code",
   "execution_count": 101,
   "metadata": {
    "slideshow": {
     "slide_type": "fragment"
    }
   },
   "outputs": [
    {
     "name": "stdout",
     "output_type": "stream",
     "text": [
      "Erreur\n"
     ]
    }
   ],
   "source": [
    "ma_fonction(\"r\")"
   ]
  },
  {
   "cell_type": "code",
   "execution_count": 102,
   "metadata": {},
   "outputs": [],
   "source": [
    "def read_file(path):\n",
    "    try:\n",
    "        pd.read_csv(path)\n",
    "    except FileNotFoundError:\n",
    "        print(\"Pas de fichier à cette adresse\")\n",
    "    except :\n",
    "        print(\"Erreur inconnue\")"
   ]
  },
  {
   "cell_type": "code",
   "execution_count": 103,
   "metadata": {},
   "outputs": [
    {
     "name": "stdout",
     "output_type": "stream",
     "text": [
      "Pas de fichier à cette adresse\n"
     ]
    }
   ],
   "source": [
    "read_file(\"rr\")"
   ]
  },
  {
   "cell_type": "markdown",
   "metadata": {
    "slideshow": {
     "slide_type": "subslide"
    }
   },
   "source": [
    "**Exercices :**\n",
    "    \n",
    "Créer une gestion d’exception pour une fonction prenant en entrée deux `input()` puis divisez-les, utiliser les différentes erreurs d’exceptions\n"
   ]
  },
  {
   "cell_type": "code",
   "execution_count": 104,
   "metadata": {},
   "outputs": [],
   "source": [
    "def division():\n",
    "    try:\n",
    "        nombre1=input(\"Entrez un nombre :\")\n",
    "        nombre2=input(\"Entrez un nombre :\")\n",
    "        print(float(nombre1)/float(nombre2))\n",
    "    except ValueError:\n",
    "        print(\"Entrez des nombres\")\n",
    "        division()\n",
    "    except ZeroDivisionError:\n",
    "        print(\"Division par Zéro\")\n",
    "        division()"
   ]
  },
  {
   "cell_type": "code",
   "execution_count": 105,
   "metadata": {},
   "outputs": [
    {
     "name": "stdin",
     "output_type": "stream",
     "text": [
      "Entrez un nombre : 4\n",
      "Entrez un nombre : 6\n"
     ]
    },
    {
     "name": "stdout",
     "output_type": "stream",
     "text": [
      "0.6666666666666666\n"
     ]
    }
   ],
   "source": [
    "division()"
   ]
  }
 ],
 "metadata": {
  "celltoolbar": "Slideshow",
  "kernelspec": {
   "display_name": "Python 3",
   "language": "python",
   "name": "python3"
  },
  "language_info": {
   "codemirror_mode": {
    "name": "ipython",
    "version": 3
   },
   "file_extension": ".py",
   "mimetype": "text/x-python",
   "name": "python",
   "nbconvert_exporter": "python",
   "pygments_lexer": "ipython3",
   "version": "3.6.8"
  }
 },
 "nbformat": 4,
 "nbformat_minor": 2
}
